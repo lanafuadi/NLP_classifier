{
 "cells": [
  {
   "cell_type": "markdown",
   "metadata": {},
   "source": [
    "# NLP Classifier\n",
    "By : Lana Fuadi\n",
    "<br>LinkedIn : https://www.linkedin.com/in/lanafuadi/\n",
    "<br>GitHub : https://github.com/lanafuadi"
   ]
  },
  {
   "cell_type": "markdown",
   "metadata": {},
   "source": [
    "Ini adalah project percobaan untuk membuat sentiment analysis dengan mengimplementasikan Natural Language Processing (NLP) dan mengklasifikasikan sebuah komentartermasuk komentar positif atau negatif."
   ]
  },
  {
   "cell_type": "code",
   "execution_count": 11,
   "metadata": {},
   "outputs": [],
   "source": [
    "import nltk\n",
    "import pickle\n",
    "import re\n",
    "from collections import defaultdict\n",
    "from math import log"
   ]
  },
  {
   "cell_type": "code",
   "execution_count": 17,
   "metadata": {},
   "outputs": [],
   "source": [
    "# Membuat fungsi training dengan classifier NaiveBayes\n",
    "def nb_train(positive_data, negative_data):\n",
    "    positive_data        = [text.lower() for text in positive_data] # untuk mengubah huruf besar menjadi huruf kecil\n",
    "    negative_data        = [text.lower() for text in negative_data] # untuk mengubah huruf besar menjadi huruf kecil\n",
    "    total_positive_docs  = len(positive_data) # menentukan jumlah teks dari kalimat positif\n",
    "    total_negative_docs  = len(negative_data) # menentukan jumlah teks dari kalimat negative\n",
    "    total_docs           = total_positive_docs + total_negative_docs # total teks postive ditambah negative\n",
    "    prior_positive       = total_positive_docs / total_docs # menghitung probabilitas munculnya kata positif\n",
    "    prior_negative       = total_negative_docs / total_docs # menghitung probabilitas munculnya kata positif\n",
    "    word_freq_positive   = defaultdict(int) # menambah frequency ke dalam dictionary default\n",
    "    word_freq_negative   = defaultdict(int) # menambah frequency ke dalam dictionary default\n",
    "    total_words_positive = 0 # jumlah awal kata positif\n",
    "    total_words_negative = 0 # jumlah awal kata negative\n",
    "    unique_words         = set() # set untuk mengumpulkan kata unique dari positive dan negative\n",
    "    \n",
    "    for text in positive_data: #  iterasi untuk menjumlah seluruh kata positif yang ditemukan\n",
    "        words = re.findall(r'\\b\\w+\\b', text)\n",
    "        for word in words:\n",
    "            word_freq_positive[word] += 1\n",
    "            total_words_positive += 1\n",
    "            unique_words.add(word)\n",
    "            \n",
    "    \n",
    "    for text in negative_data: # iterasi untuk menjumlah seluruh kata negatif yang ditemukan\n",
    "        words = re.findall(r'\\b\\w+\\b', text)\n",
    "        for word in words:\n",
    "            word_freq_negative[word] += 1\n",
    "            total_words_negative += 1\n",
    "            unique_words.add(word)\n",
    "    \n",
    "    total_unique_words = len(unique_words) # total kata unik\n",
    "    \n",
    "    model = {'prior_positive'       : prior_positive,\n",
    "             'prior_negative'       : prior_negative,\n",
    "             'word_freq_positive'   : word_freq_positive,\n",
    "             'word_freq_negative'   : word_freq_negative,\n",
    "             'total_words_positive' : total_words_positive,\n",
    "             'total_words_negative' : total_words_negative,\n",
    "             'total_unique_words'   : total_unique_words}\n",
    "    \n",
    "    with open('nb_model.pkl', 'wb') as f: # menyimpan model yang telah dibuat ke dalam file pickle\n",
    "        pickle.dump(model, f)\n",
    "    return model"
   ]
  },
  {
   "cell_type": "code",
   "execution_count": 21,
   "metadata": {},
   "outputs": [],
   "source": [
    "from math import log\n",
    "\n",
    "def KlasifikasiText(text, model):\n",
    "    word_freq_positive   = model['word_freq_positive']\n",
    "    word_freq_negative   = model['word_freq_negative']\n",
    "    total_words_positive = model['total_words_positive']\n",
    "    total_words_negative = model['total_words_negative']\n",
    "    total_unique_words   = model['total_unique_words']\n",
    "    prior_positive       = model['prior_positive']\n",
    "    prior_negative       = model['prior_negative']\n",
    "    words                = re.findall(r'\\b\\w+\\b', text.lower())\n",
    "    likelihood_positive  = log(prior_positive)\n",
    "    likelihood_negative  = log(prior_negative)\n",
    "    \n",
    "    for word in words:\n",
    "        likelihood_positive += log((word_freq_positive[word] + 1) / (total_words_positive + total_unique_words))\n",
    "        likelihood_negative += log((word_freq_negative[word] + 1) / (total_words_negative + total_unique_words))\n",
    "    \n",
    "    # Calculate probabilities for each class\n",
    "    prob_positive = 1 / (1 + pow(2.71828, -likelihood_positive))\n",
    "    prob_negative = 1 / (1 + pow(2.71828, -likelihood_negative))\n",
    "\n",
    "    return prob_positive, prob_negative\n",
    "\n",
    "data_latih_positif  = ['1. Blackpink di coachella 2023 keren bgt!!!!',\n",
    "                       '2. Suka banget lagu Tally Blackpink',\n",
    "                       '3. Outfit Willow keren bgt sih',\n",
    "                       '4. Coachella tahun ini luar biasa',\n",
    "                       '5. Kapan ya ada acara di indo yang seperti Coachella Wkwkwkwkwkwkwkkwkw',\n",
    "                       '6. Blackpink comeback soon!', 'Kelas Positif']\n",
    "data_latih_negative = ['1. Acaranya sebentar banget rasanya :(',\n",
    "                       '2. Mahal banget tiketnya aslii, males jadinya',\n",
    "                       '3. Wah lineup Coachella mengecewakan',\n",
    "                       '4. Cuacanya parah banget. Mana desek - desekan. plis lah Coachella',\n",
    "                       '5. Padet banget disana, gak berani masuk jadinya',\n",
    "                       '6. Tiket Coachella sudah habis.', 'Kelas Negatif']\n",
    "\n",
    "model               = nb_train(data_latih_positif, data_latih_negative)\n",
    "prob_positive, prob_negative = KlasifikasiText(text_input, model)"
   ]
  },
  {
   "cell_type": "code",
   "execution_count": 37,
   "metadata": {},
   "outputs": [
    {
     "name": "stdout",
     "output_type": "stream",
     "text": [
      "Probability Kelas Positif: 0.00000001709628919546\n",
      "Probability Kelas Negatif: 0.00000000427407633922\n"
     ]
    }
   ],
   "source": [
    "text_input = 'Personel Blackpink cantik-cantik'\n",
    "prob_positive, prob_negative = KlasifikasiText(text_input, model)\n",
    "\n",
    "# Display probabilities without scientific notation\n",
    "print('Probability Kelas Positif:', '{:.20f}'.format(prob_positive))\n",
    "print('Probability Kelas Negatif:', '{:.20f}'.format(prob_negative))"
   ]
  }
 ],
 "metadata": {
  "kernelspec": {
   "display_name": "works",
   "language": "python",
   "name": "python3"
  },
  "language_info": {
   "codemirror_mode": {
    "name": "ipython",
    "version": 3
   },
   "file_extension": ".py",
   "mimetype": "text/x-python",
   "name": "python",
   "nbconvert_exporter": "python",
   "pygments_lexer": "ipython3",
   "version": "3.11.4"
  },
  "orig_nbformat": 4
 },
 "nbformat": 4,
 "nbformat_minor": 2
}
